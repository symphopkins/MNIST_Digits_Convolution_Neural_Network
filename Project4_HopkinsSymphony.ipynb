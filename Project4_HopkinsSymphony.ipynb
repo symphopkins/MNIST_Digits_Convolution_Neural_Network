{
  "nbformat": 4,
  "nbformat_minor": 0,
  "metadata": {
    "colab": {
      "provenance": []
    },
    "kernelspec": {
      "name": "python3",
      "display_name": "Python 3"
    },
    "language_info": {
      "name": "python"
    }
  },
  "cells": [
    {
      "cell_type": "markdown",
      "source": [
        "#DSCI 619: Deep Learning\n",
        "## Project 4\n",
        "Symphony Hopkins"
      ],
      "metadata": {
        "id": "em9CAvHEEvl1"
      }
    },
    {
      "cell_type": "markdown",
      "source": [
        "##Introduction"
      ],
      "metadata": {
        "id": "ZYq0eYSfE74h"
      }
    },
    {
      "cell_type": "markdown",
      "source": [
        "For this project, our objective is to build an optimal convolutional neural network to classify handwritten digits. We will use a built-in dataset, MNIST, provided by TensorFlow. The dataset contains 60,000 28x28 grayscale images of the 10 digits, along with a test set of 10,000 images. \n",
        "\n",
        "Source: [MNIST Digits Classification Dataset](https://keras.io/api/datasets/mnist/#:~:text=tf.keras.datasets.mnist.load_data%28path%3D%22mnist.npz%22%29%20Loads%20the%20MNIST%20dataset.%20This%20is%20a,along%20with%20a%20test%20set%20of%2010%2C000%20images.)"
      ],
      "metadata": {
        "id": "dEVALjBbFUa2"
      }
    },
    {
      "cell_type": "markdown",
      "source": [
        "## Data Preparation"
      ],
      "metadata": {
        "id": "lovoyVoME96P"
      }
    },
    {
      "cell_type": "markdown",
      "source": [
        "**1.Load the data using the following codes:**\n",
        "\n"
      ],
      "metadata": {
        "id": "RwNMCXJdIr4o"
      }
    },
    {
      "cell_type": "markdown",
      "source": [
        "Let's begin by loading the MNIST dataset into memory."
      ],
      "metadata": {
        "id": "ozBF4cmmOqbf"
      }
    },
    {
      "cell_type": "code",
      "source": [
        "#importing libraries\n",
        "import tensorflow as tf\n",
        "from tensorflow.keras import datasets, layers, models"
      ],
      "metadata": {
        "id": "vWWixjTXMiEh"
      },
      "execution_count": 1,
      "outputs": []
    },
    {
      "cell_type": "code",
      "source": [
        "#loading the MNIST digits classification dataset from Tensorflow Keras\n",
        "mnist = tf.keras.datasets.mnist\n",
        "#splitting data into training and test datasets\n",
        "(x_train, y_train), (x_test, y_test) = mnist.load_data()\n",
        "#we are dividing the values by 255.0 to normalize the pixels so that they are within the range of 0 and 1, and to convert the values to floats\n",
        "x_train, x_test = x_train / 255.0, x_test / 255.0"
      ],
      "metadata": {
        "id": "kviCwNqoIyWK"
      },
      "execution_count": 2,
      "outputs": []
    },
    {
      "cell_type": "markdown",
      "source": [
        "It's always good to check the data types, so let's see what they are for each variable."
      ],
      "metadata": {
        "id": "XRRtX9DxESry"
      }
    },
    {
      "cell_type": "code",
      "source": [
        "#checking data type of each variable\n",
        "print(f'''\n",
        "x_train data type: {x_train.dtype}\n",
        "y_train data type: {y_train.dtype}\n",
        "x_test data type:  {x_test.dtype}\n",
        "y_test data type:  {y_test.dtype}\n",
        "''')"
      ],
      "metadata": {
        "colab": {
          "base_uri": "https://localhost:8080/"
        },
        "id": "RvYI9hsGEaSF",
        "outputId": "0a1fe034-1517-4ada-84a8-8afd514c7e59"
      },
      "execution_count": 3,
      "outputs": [
        {
          "output_type": "stream",
          "name": "stdout",
          "text": [
            "\n",
            "x_train data type: float64\n",
            "y_train data type: uint8\n",
            "x_test data type:  float64\n",
            "y_test data type:  uint8\n",
            "\n"
          ]
        }
      ]
    },
    {
      "cell_type": "markdown",
      "source": [
        "When we divided the *x_train* and *x_test* by 255.0 earlier, it converted the data types from uint8 to float64. Now, let's look at the shape of the data."
      ],
      "metadata": {
        "id": "SSIf9VO4PV0j"
      }
    },
    {
      "cell_type": "code",
      "source": [
        "#checking shape of data\n",
        "print(f'''\n",
        "x_train shape: {x_train.shape}\n",
        "y_train shape: {y_train.shape}\n",
        "x_test shape:  {x_test.shape}\n",
        "y_test shape:  {y_test.shape}\n",
        "''')"
      ],
      "metadata": {
        "colab": {
          "base_uri": "https://localhost:8080/"
        },
        "id": "ehRJRVQAPaYk",
        "outputId": "64c4343a-a333-4076-fc6e-04dcacaaca15"
      },
      "execution_count": 4,
      "outputs": [
        {
          "output_type": "stream",
          "name": "stdout",
          "text": [
            "\n",
            "x_train shape: (60000, 28, 28)\n",
            "y_train shape: (60000,)\n",
            "x_test shape:  (10000, 28, 28)\n",
            "y_test shape:  (10000,)\n",
            "\n"
          ]
        }
      ]
    },
    {
      "cell_type": "markdown",
      "source": [
        "As we can see, there are 60000 images in the train set and 10000 images in the test set, both of which are 28x28. We can also see that the x_train and x_test sets are 3D arrays; however, Keras Convolution 2D Layers only accept 4D arrays. To fix this issue, we must reshape the data. We will do so by adding the channel dimension.\n",
        "\n"
      ],
      "metadata": {
        "id": "ZNoryMsXQgOy"
      }
    },
    {
      "cell_type": "code",
      "source": [
        "#reshaping the data\n",
        "#each image is 28x28, so we will set the height and width to be those values\n",
        "height, width = x_train.shape[1:]\n",
        "x_train = x_train.reshape(x_train.shape[0], height, width, 1)\n",
        "x_test = x_test.reshape(x_test.shape[0], height, width, 1)"
      ],
      "metadata": {
        "id": "VZW42cQsPB2R"
      },
      "execution_count": 5,
      "outputs": []
    },
    {
      "cell_type": "code",
      "source": [
        "#checking new shape of data\n",
        "print(f'''\n",
        "x_train shape: {x_train.shape}\n",
        "x_test shape:  {x_test.shape}\n",
        "''')"
      ],
      "metadata": {
        "colab": {
          "base_uri": "https://localhost:8080/"
        },
        "id": "_XKL35S4UOPF",
        "outputId": "3d1f98f3-30c1-4c3f-ac09-c498c8710360"
      },
      "execution_count": 6,
      "outputs": [
        {
          "output_type": "stream",
          "name": "stdout",
          "text": [
            "\n",
            "x_train shape: (60000, 28, 28, 1)\n",
            "x_test shape:  (10000, 28, 28, 1)\n",
            "\n"
          ]
        }
      ]
    },
    {
      "cell_type": "markdown",
      "source": [
        " Next, let's look at the labels."
      ],
      "metadata": {
        "id": "33p86kSzOroZ"
      }
    },
    {
      "cell_type": "code",
      "source": [
        "#checking labels\n",
        "import numpy as np\n",
        "np.unique(y_test)"
      ],
      "metadata": {
        "colab": {
          "base_uri": "https://localhost:8080/"
        },
        "id": "xRNz843rCUo7",
        "outputId": "b5b81b13-618a-45ac-8c1c-b8b54db9573c"
      },
      "execution_count": 7,
      "outputs": [
        {
          "output_type": "execute_result",
          "data": {
            "text/plain": [
              "array([0, 1, 2, 3, 4, 5, 6, 7, 8, 9], dtype=uint8)"
            ]
          },
          "metadata": {},
          "execution_count": 7
        }
      ]
    },
    {
      "cell_type": "markdown",
      "source": [
        "We have ten labels for the digits, ranging from 0 to 9. Now, let's look at the pixel values. Pixel values fall within the range of 0 (black) and 255 (white); since we normalized these values earlier by dividing them by 255.0, they should fall within the range of 0 and 1."
      ],
      "metadata": {
        "id": "BFWrVUdKDp44"
      }
    },
    {
      "cell_type": "code",
      "source": [
        "#checking pixel value range\n",
        "import numpy as np\n",
        "print(f'The minimum value of pixels = {np.amin(x_train[0])}; the maximum value of pixels ={np.amax(x_train[0])}' )"
      ],
      "metadata": {
        "colab": {
          "base_uri": "https://localhost:8080/"
        },
        "id": "4PHNV_DaNiQl",
        "outputId": "b68d3896-5f8c-4718-818e-8344a5c7b0f4"
      },
      "execution_count": 8,
      "outputs": [
        {
          "output_type": "stream",
          "name": "stdout",
          "text": [
            "The minimum value of pixels = 0.0; the maximum value of pixels =1.0\n"
          ]
        }
      ]
    },
    {
      "cell_type": "markdown",
      "source": [
        "Finally, let's visualize the first image to get an idea of the digits look like."
      ],
      "metadata": {
        "id": "YNhltabwIdzy"
      }
    },
    {
      "cell_type": "code",
      "source": [
        "#visualizing an image\n",
        "import matplotlib.pyplot as plt\n",
        "plt.imshow(x_train[0], cmap='gray', interpolation='none')\n",
        "plt.title(f'Digit: {y_train[0]}')\n",
        "plt.tick_params(left = False, right = False , labelleft = False, labelbottom = False, bottom = False)"
      ],
      "metadata": {
        "colab": {
          "base_uri": "https://localhost:8080/",
          "height": 264
        },
        "id": "I2qwJMu1Iidc",
        "outputId": "fd5b59c8-11ba-403d-d7bc-f80f4cf15607"
      },
      "execution_count": 9,
      "outputs": [
        {
          "output_type": "display_data",
          "data": {
            "text/plain": [
              "<Figure size 432x288 with 1 Axes>"
            ],
            "image/png": "[encoded data removed]"
          },
          "metadata": {}
        }
      ]
    },
    {
      "cell_type": "markdown",
      "source": [
        "##Building Convolutional Neural Networks"
      ],
      "metadata": {
        "id": "AztKJTbbFDyx"
      }
    },
    {
      "cell_type": "markdown",
      "source": [
        "**2.Build the first model try different type of convolution and maxpooling layers.**"
      ],
      "metadata": {
        "id": "o9cUT6QvI9Fa"
      }
    },
    {
      "cell_type": "markdown",
      "source": [
        "Now, let's create a convolution neural network to classify the digits. "
      ],
      "metadata": {
        "id": "G6lwEyJKJ4-9"
      }
    },
    {
      "cell_type": "code",
      "source": [
        "#creating first model\n",
        "model = models.Sequential()\n",
        "\n",
        "#adding first convolution layer\n",
        "#since we reshaped the x_train set to be (60000,28,28,1), we can simply set the input_shape to be x_train[1:] so that it'll be (28,28,1)\n",
        "model.add(layers.Conv2D(32, (3, 3), activation='relu', input_shape= x_train.shape[1:]))\n",
        "\n",
        "#adding the first max pooling layer; pooling window will be 2x2\n",
        "model.add(layers.MaxPooling2D((2, 2)))\n",
        "\n",
        "#adding second convolution layer; increasing # of filters from 32 to 64\n",
        "model.add(layers.Conv2D(64, (3, 3), activation='relu'))\n",
        "\n",
        "#adding second max pooling layer\n",
        "model.add(layers.MaxPooling2D((2, 2)))\n",
        "\n",
        "#adding third convolution layer; increasing # of filters from 64 to 128\n",
        "model.add(layers.Conv2D(128, (3, 3), activation='relu'))\n",
        "\n",
        "#adding third max pooling layer\n",
        "model.add(layers.MaxPooling2D((2, 2)))\n",
        "\n",
        "#we need to change the dimensions of the output array to 2D to make it work with the classification algorithm, so we will add a flatten layer\n",
        "model.add(layers.Flatten())\n",
        "\n",
        "#adding layers for classification; layer will contain 128 neurons\n",
        "model.add(layers.Dense(128, activation='relu'))\n",
        "\n",
        "#adding dropout layer \n",
        "model.add(layers.Dropout(0.3))\n",
        "\n",
        "#since we have 10 labels, we need to have 10 neurons for the final output later; activation=None\n",
        "model.add(layers.Dense(10))\n",
        "\n",
        "#configuring model; since activation=None, from_logits must =True\n",
        "model.compile(optimizer='adam', loss=tf.keras.losses.SparseCategoricalCrossentropy(from_logits=True), metrics=['accuracy'])\n"
      ],
      "metadata": {
        "id": "nnC1rVDdKeEd"
      },
      "execution_count": 10,
      "outputs": []
    },
    {
      "cell_type": "markdown",
      "source": [
        "**3.Print out the size of each layer of the model in step 2 using model summary function. What's the test error?**"
      ],
      "metadata": {
        "id": "3CueL788JJpl"
      }
    },
    {
      "cell_type": "markdown",
      "source": [
        "Let's see the different sizes for each layer from the model we created."
      ],
      "metadata": {
        "id": "4Q_ouY2PkLeN"
      }
    },
    {
      "cell_type": "code",
      "source": [
        "model.summary()"
      ],
      "metadata": {
        "colab": {
          "base_uri": "https://localhost:8080/"
        },
        "id": "NcJjuzpzkKok",
        "outputId": "cdc9723c-3804-487e-d90e-78cf54c0a75b"
      },
      "execution_count": 11,
      "outputs": [
        {
          "output_type": "stream",
          "name": "stdout",
          "text": [
            "Model: \"sequential\"\n",
            "_________________________________________________________________\n",
            " Layer (type)                Output Shape              Param #   \n",
            "=================================================================\n",
            " conv2d (Conv2D)             (None, 26, 26, 32)        320       \n",
            "                                                                 \n",
            " max_pooling2d (MaxPooling2D  (None, 13, 13, 32)       0         \n",
            " )                                                               \n",
            "                                                                 \n",
            " conv2d_1 (Conv2D)           (None, 11, 11, 64)        18496     \n",
            "                                                                 \n",
            " max_pooling2d_1 (MaxPooling  (None, 5, 5, 64)         0         \n",
            " 2D)                                                             \n",
            "                                                                 \n",
            " conv2d_2 (Conv2D)           (None, 3, 3, 128)         73856     \n",
            "                                                                 \n",
            " max_pooling2d_2 (MaxPooling  (None, 1, 1, 128)        0         \n",
            " 2D)                                                             \n",
            "                                                                 \n",
            " flatten (Flatten)           (None, 128)               0         \n",
            "                                                                 \n",
            " dense (Dense)               (None, 128)               16512     \n",
            "                                                                 \n",
            " dropout (Dropout)           (None, 128)               0         \n",
            "                                                                 \n",
            " dense_1 (Dense)             (None, 10)                1290      \n",
            "                                                                 \n",
            "=================================================================\n",
            "Total params: 110,474\n",
            "Trainable params: 110,474\n",
            "Non-trainable params: 0\n",
            "_________________________________________________________________\n"
          ]
        }
      ]
    },
    {
      "cell_type": "markdown",
      "source": [
        "As we can see, the dimension sizes decreased as we added different layers. Let's evaluate the model by looking at the test error. To begin, we will train the model. We will implement early stopping while training the model since we have 110,474 paramaters. The training will stop if the validation accuracy does not improve for 3 epochs."
      ],
      "metadata": {
        "id": "fOwAXaA8lGpN"
      }
    },
    {
      "cell_type": "code",
      "source": [
        "%%time\n",
        "#adding early stopping; if the validation accuracy does not improve for 3 epochs, we will stop training\n",
        "callback = tf.keras.callbacks.EarlyStopping(monitor='val_accuracy', patience= 3)\n",
        "\n",
        "#training the model and storing the history in a variable to plot later\n",
        "#we will make the number of epochs short since training models for image classification can run for a long time\n",
        "history = model.fit(x_train, y_train, epochs=20, validation_data=(x_test, y_test), callbacks=[callback], verbose = 1)"
      ],
      "metadata": {
        "colab": {
          "base_uri": "https://localhost:8080/"
        },
        "id": "mzNH2ga1lu5N",
        "outputId": "c82854be-ad3d-4eee-8b79-e26208f8390d"
      },
      "execution_count": 12,
      "outputs": [
        {
          "output_type": "stream",
          "name": "stdout",
          "text": [
            "Epoch 1/20\n",
            "1875/1875 [==============================] - 86s 44ms/step - loss: 0.2193 - accuracy: 0.9321 - val_loss: 0.0678 - val_accuracy: 0.9797\n",
            "Epoch 2/20\n",
            "1875/1875 [==============================] - 77s 41ms/step - loss: 0.0767 - accuracy: 0.9773 - val_loss: 0.0558 - val_accuracy: 0.9832\n",
            "Epoch 3/20\n",
            "1875/1875 [==============================] - 79s 42ms/step - loss: 0.0535 - accuracy: 0.9839 - val_loss: 0.0573 - val_accuracy: 0.9832\n",
            "Epoch 4/20\n",
            "1875/1875 [==============================] - 78s 42ms/step - loss: 0.0421 - accuracy: 0.9876 - val_loss: 0.0445 - val_accuracy: 0.9863\n",
            "Epoch 5/20\n",
            "1875/1875 [==============================] - 75s 40ms/step - loss: 0.0343 - accuracy: 0.9896 - val_loss: 0.0477 - val_accuracy: 0.9860\n",
            "Epoch 6/20\n",
            "1875/1875 [==============================] - 74s 40ms/step - loss: 0.0278 - accuracy: 0.9912 - val_loss: 0.0437 - val_accuracy: 0.9874\n",
            "Epoch 7/20\n",
            "1875/1875 [==============================] - 74s 39ms/step - loss: 0.0238 - accuracy: 0.9922 - val_loss: 0.0460 - val_accuracy: 0.9869\n",
            "Epoch 8/20\n",
            "1875/1875 [==============================] - 76s 41ms/step - loss: 0.0195 - accuracy: 0.9939 - val_loss: 0.0463 - val_accuracy: 0.9880\n",
            "Epoch 9/20\n",
            "1875/1875 [==============================] - 74s 40ms/step - loss: 0.0187 - accuracy: 0.9940 - val_loss: 0.0391 - val_accuracy: 0.9902\n",
            "Epoch 10/20\n",
            "1875/1875 [==============================] - 75s 40ms/step - loss: 0.0168 - accuracy: 0.9949 - val_loss: 0.0506 - val_accuracy: 0.9883\n",
            "Epoch 11/20\n",
            "1875/1875 [==============================] - 75s 40ms/step - loss: 0.0141 - accuracy: 0.9954 - val_loss: 0.0568 - val_accuracy: 0.9867\n",
            "Epoch 12/20\n",
            "1875/1875 [==============================] - 74s 39ms/step - loss: 0.0138 - accuracy: 0.9958 - val_loss: 0.0619 - val_accuracy: 0.9867\n",
            "CPU times: user 21min 12s, sys: 23.9 s, total: 21min 36s\n",
            "Wall time: 15min 18s\n"
          ]
        }
      ]
    },
    {
      "cell_type": "markdown",
      "source": [
        "Next, we will create a line plot to visualize the model history."
      ],
      "metadata": {
        "id": "aKsd_8HPwnKU"
      }
    },
    {
      "cell_type": "code",
      "source": [
        "#importing libraries\n",
        "import seaborn as sns\n",
        "import pandas as pd\n",
        "\n",
        "#visualizing training history\n",
        "train_history = pd.DataFrame(history.history)\n",
        "train_history['epoch'] = history.epoch\n",
        "#plotting training loss line plot\n",
        "sns.lineplot(x='epoch', y ='loss', data =train_history)\n",
        "#plotting validation loss line plot\n",
        "sns.lineplot(x='epoch', y ='val_loss', data =train_history)\n",
        "#adding legends\n",
        "plt.legend(labels=['train_loss', 'val_loss'])\n",
        "#displaying line plot\n",
        "plt.show()\n"
      ],
      "metadata": {
        "colab": {
          "base_uri": "https://localhost:8080/",
          "height": 279
        },
        "id": "g53ZJu_uw6Xu",
        "outputId": "e6e15d6e-c65b-4501-8db4-a927bdda2008"
      },
      "execution_count": 13,
      "outputs": [
        {
          "output_type": "display_data",
          "data": {
            "text/plain": [
              "<Figure size 432x288 with 1 Axes>"
            ],
            "image/png": "[encoded data removed]"
          },
          "metadata": {
            "needs_background": "light"
          }
        }
      ]
    },
    {
      "cell_type": "code",
      "source": [
        "#plotting training accuracy\n",
        "sns.lineplot(x='epoch', y ='accuracy', data =train_history)\n",
        "#plotting validation accuracy\n",
        "sns.lineplot(x='epoch', y ='val_accuracy', data =train_history)\n",
        "#adding legends\n",
        "plt.legend(labels=['train_accuracy', 'val_accuracy'])\n",
        "#displaying line plot\n",
        "plt.show()"
      ],
      "metadata": {
        "colab": {
          "base_uri": "https://localhost:8080/",
          "height": 279
        },
        "id": "yNLjAM2kxdyL",
        "outputId": "4014b3b1-381a-4939-cafc-502eaaa4a6cd"
      },
      "execution_count": 14,
      "outputs": [
        {
          "output_type": "display_data",
          "data": {
            "text/plain": [
              "<Figure size 432x288 with 1 Axes>"
            ],
            "image/png": "[encoded data removed]"
          },
          "metadata": {
            "needs_background": "light"
          }
        }
      ]
    },
    {
      "cell_type": "markdown",
      "source": [
        "As we can see, early stopping was implemented at 12 epochs. For the loss plot, we observed the training loss sharply decreased after the first few epochs, and continued to decrease as the number of epochs increased; for the validation loss, there was instability as it increased and decreased as the number of epoched increased. For the accuracy plot, we observed the training and validation accuracies approach high numbers, with training accuracy steadily approaching 100% and validation accuracy fluctuating. From these plots, we suspect that the model is over-fitting. Let's calculate the overall test error and accuracy to evaluate the model's performance. "
      ],
      "metadata": {
        "id": "MfET7buTx7Lr"
      }
    },
    {
      "cell_type": "code",
      "source": [
        "#calculating test error and accuracy\n",
        "test_loss, test_acc = model.evaluate(x_test, y_test, verbose=0)\n",
        "print(f'''\n",
        "Test Loss: {round(test_loss, 4)}\n",
        "Test Accuracy: {round(test_acc, 4)}''')"
      ],
      "metadata": {
        "colab": {
          "base_uri": "https://localhost:8080/"
        },
        "id": "Bc-CqLQ50Dhv",
        "outputId": "2f268a34-80c5-4c8e-ac3b-82f9c41ea9cf"
      },
      "execution_count": 15,
      "outputs": [
        {
          "output_type": "stream",
          "name": "stdout",
          "text": [
            "\n",
            "Test Loss: 0.0619\n",
            "Test Accuracy: 0.9867\n"
          ]
        }
      ]
    },
    {
      "cell_type": "markdown",
      "source": [
        "We have a really low test loss and high test accuracy, which means the model is performing very well. However, we do suspect that there is some over-fitting because the accuracies are really high."
      ],
      "metadata": {
        "id": "Wo7Z0NFf3vGV"
      }
    },
    {
      "cell_type": "markdown",
      "source": [
        "**4.Build a second model using different type of convolution and maxpooling layer. What's the test error?**"
      ],
      "metadata": {
        "id": "YHDPRFxSJOLt"
      }
    },
    {
      "cell_type": "markdown",
      "source": [
        "Let's create a new model with different arrangements of the convolution and maxpooling layers to see if we can achieve better results. Since our first model seems to be over-fitting, let's see if adding more drop-out layers and reducing the number of neurons in the hidden layers will stop this issue."
      ],
      "metadata": {
        "id": "2jIkmTFI36Cn"
      }
    },
    {
      "cell_type": "code",
      "source": [
        "#creating second model\n",
        "model = models.Sequential()\n",
        "\n",
        "#adding first convolution layer\n",
        "#since we reshaped the x_train set to be (60000,28,28,1), we can simply set the input_shape to be x_train[1:] so that it'll be (28,28,1)\n",
        "model.add(layers.Conv2D(32, (3, 3), activation='relu', input_shape= x_train.shape[1:]))\n",
        "\n",
        "#adding the first max pooling layer; pooling window will be 2x2\n",
        "model.add(layers.MaxPooling2D((2, 2)))\n",
        "\n",
        "#adding second convolution layer; increasing # of filters from 32 to 64\n",
        "model.add(layers.Conv2D(64, (3, 3), activation='relu'))\n",
        "\n",
        "#adding second max pooling layer\n",
        "model.add(layers.MaxPooling2D((2, 2)))\n",
        "\n",
        "#adding third convolution layer; increasing # of filters from 64 to 128\n",
        "model.add(layers.Conv2D(128, (3, 3), activation='relu'))\n",
        "\n",
        "#adding third max pooling layer\n",
        "model.add(layers.MaxPooling2D((2, 2)))\n",
        "\n",
        "#we need to change the dimensions of the output array to 2D to make it work with the classification algorithm, so we will add a flatten layer\n",
        "model.add(layers.Flatten())\n",
        "\n",
        "#adding first layer for classification; layer will contain 128 neurons\n",
        "model.add(layers.Dense(128, activation='relu'))\n",
        "\n",
        "#adding first dropout layer\n",
        "model.add(layers.Dropout(0.3))\n",
        "\n",
        "#adding second layer for classification; layer will contain 64 neurons\n",
        "model.add(layers.Dense(64, activation='relu'))\n",
        "\n",
        "#adding second dropout layer\n",
        "model.add(layers.Dropout(0.3))\n",
        "\n",
        "#adding third layer for classification; layer will contain 64 neurons\n",
        "model.add(layers.Dense(32, activation='relu'))\n",
        "\n",
        "#adding third dropout layer\n",
        "model.add(layers.Dropout(0.3))\n",
        "\n",
        "#since we have 10 labels, we need to have 10 neurons for the final output later; activation=None\n",
        "model.add(layers.Dense(10))\n",
        "\n",
        "#configuring model; since activation=None, from_logits must =True\n",
        "model.compile(optimizer='adam', loss=tf.keras.losses.SparseCategoricalCrossentropy(from_logits=True), metrics=['accuracy'])"
      ],
      "metadata": {
        "id": "WXC2jFvhFgO8"
      },
      "execution_count": 16,
      "outputs": []
    },
    {
      "cell_type": "markdown",
      "source": [
        "**5.Print out the size of each layer of the model in step 4 using model summary function. What's the test error?**\n"
      ],
      "metadata": {
        "id": "bsxAJcqAJVNa"
      }
    },
    {
      "cell_type": "markdown",
      "source": [
        "Let's see the different sizes for each layer from the model we created."
      ],
      "metadata": {
        "id": "qPqgV2SsG5qq"
      }
    },
    {
      "cell_type": "code",
      "source": [
        "model.summary()"
      ],
      "metadata": {
        "colab": {
          "base_uri": "https://localhost:8080/"
        },
        "id": "jatMPPorHAOs",
        "outputId": "fbb0aee0-e6dc-4e52-d9bb-c8571d0176b8"
      },
      "execution_count": 17,
      "outputs": [
        {
          "output_type": "stream",
          "name": "stdout",
          "text": [
            "Model: \"sequential_1\"\n",
            "_________________________________________________________________\n",
            " Layer (type)                Output Shape              Param #   \n",
            "=================================================================\n",
            " conv2d_3 (Conv2D)           (None, 26, 26, 32)        320       \n",
            "                                                                 \n",
            " max_pooling2d_3 (MaxPooling  (None, 13, 13, 32)       0         \n",
            " 2D)                                                             \n",
            "                                                                 \n",
            " conv2d_4 (Conv2D)           (None, 11, 11, 64)        18496     \n",
            "                                                                 \n",
            " max_pooling2d_4 (MaxPooling  (None, 5, 5, 64)         0         \n",
            " 2D)                                                             \n",
            "                                                                 \n",
            " conv2d_5 (Conv2D)           (None, 3, 3, 128)         73856     \n",
            "                                                                 \n",
            " max_pooling2d_5 (MaxPooling  (None, 1, 1, 128)        0         \n",
            " 2D)                                                             \n",
            "                                                                 \n",
            " flatten_1 (Flatten)         (None, 128)               0         \n",
            "                                                                 \n",
            " dense_2 (Dense)             (None, 128)               16512     \n",
            "                                                                 \n",
            " dropout_1 (Dropout)         (None, 128)               0         \n",
            "                                                                 \n",
            " dense_3 (Dense)             (None, 64)                8256      \n",
            "                                                                 \n",
            " dropout_2 (Dropout)         (None, 64)                0         \n",
            "                                                                 \n",
            " dense_4 (Dense)             (None, 32)                2080      \n",
            "                                                                 \n",
            " dropout_3 (Dropout)         (None, 32)                0         \n",
            "                                                                 \n",
            " dense_5 (Dense)             (None, 10)                330       \n",
            "                                                                 \n",
            "=================================================================\n",
            "Total params: 119,850\n",
            "Trainable params: 119,850\n",
            "Non-trainable params: 0\n",
            "_________________________________________________________________\n"
          ]
        }
      ]
    },
    {
      "cell_type": "markdown",
      "source": [
        "We have slighly more paramaters to evaluate; so similar to before, we will train the model for 20 epochs since we have a large amount parameters. If the model does not improve for 3 epochs, we will stop the training. Then, we will look at the model's history."
      ],
      "metadata": {
        "id": "v97HvAwZGufU"
      }
    },
    {
      "cell_type": "code",
      "source": [
        "%%time\n",
        "#adding early stopping; if the validation accuracy does not improve for 3 epochs, we will stop training\n",
        "callback = tf.keras.callbacks.EarlyStopping(monitor='val_accuracy', patience= 3)\n",
        "\n",
        "#training the model and storing the history in a variable to plot later\n",
        "#we will make the number of epochs short since training models for image classification can run for a long time\n",
        "history = model.fit(x_train, y_train, epochs=20, validation_data=(x_test, y_test), callbacks=[callback], verbose = 1)"
      ],
      "metadata": {
        "colab": {
          "base_uri": "https://localhost:8080/"
        },
        "id": "xNvuHiWOG1BQ",
        "outputId": "249a2b65-5ec7-40da-84d1-5d043c1d5dfd"
      },
      "execution_count": 18,
      "outputs": [
        {
          "output_type": "stream",
          "name": "stdout",
          "text": [
            "Epoch 1/20\n",
            "1875/1875 [==============================] - 79s 41ms/step - loss: 0.4351 - accuracy: 0.8680 - val_loss: 0.1034 - val_accuracy: 0.9721\n",
            "Epoch 2/20\n",
            "1875/1875 [==============================] - 78s 42ms/step - loss: 0.1347 - accuracy: 0.9690 - val_loss: 0.0802 - val_accuracy: 0.9797\n",
            "Epoch 3/20\n",
            "1875/1875 [==============================] - 77s 41ms/step - loss: 0.0993 - accuracy: 0.9778 - val_loss: 0.0650 - val_accuracy: 0.9860\n",
            "Epoch 4/20\n",
            "1875/1875 [==============================] - 77s 41ms/step - loss: 0.0808 - accuracy: 0.9816 - val_loss: 0.0675 - val_accuracy: 0.9859\n",
            "Epoch 5/20\n",
            "1875/1875 [==============================] - 73s 39ms/step - loss: 0.0687 - accuracy: 0.9839 - val_loss: 0.0633 - val_accuracy: 0.9863\n",
            "Epoch 6/20\n",
            "1875/1875 [==============================] - 78s 42ms/step - loss: 0.0578 - accuracy: 0.9863 - val_loss: 0.0766 - val_accuracy: 0.9863\n",
            "Epoch 7/20\n",
            "1875/1875 [==============================] - 81s 43ms/step - loss: 0.0528 - accuracy: 0.9875 - val_loss: 0.0608 - val_accuracy: 0.9877\n",
            "Epoch 8/20\n",
            "1875/1875 [==============================] - 75s 40ms/step - loss: 0.0455 - accuracy: 0.9890 - val_loss: 0.0647 - val_accuracy: 0.9868\n",
            "Epoch 9/20\n",
            "1875/1875 [==============================] - 75s 40ms/step - loss: 0.0393 - accuracy: 0.9909 - val_loss: 0.0601 - val_accuracy: 0.9888\n",
            "Epoch 10/20\n",
            "1875/1875 [==============================] - 76s 41ms/step - loss: 0.0380 - accuracy: 0.9911 - val_loss: 0.0597 - val_accuracy: 0.9876\n",
            "Epoch 11/20\n",
            "1875/1875 [==============================] - 79s 42ms/step - loss: 0.0347 - accuracy: 0.9919 - val_loss: 0.0708 - val_accuracy: 0.9875\n",
            "Epoch 12/20\n",
            "1875/1875 [==============================] - 76s 41ms/step - loss: 0.0309 - accuracy: 0.9925 - val_loss: 0.0736 - val_accuracy: 0.9883\n",
            "CPU times: user 21min 43s, sys: 22.1 s, total: 22min 5s\n",
            "Wall time: 15min 26s\n"
          ]
        }
      ]
    },
    {
      "cell_type": "markdown",
      "source": [
        "The model concluded at training at 12 epochs. So, let's visualize the model's history with line plots."
      ],
      "metadata": {
        "id": "6N2BIzl7HmmK"
      }
    },
    {
      "cell_type": "code",
      "source": [
        "#visualizing training history\n",
        "train_history = pd.DataFrame(history.history)\n",
        "train_history['epoch'] = history.epoch\n",
        "#plotting training loss line plot\n",
        "sns.lineplot(x='epoch', y ='loss', data =train_history)\n",
        "#plotting validation loss line plot\n",
        "sns.lineplot(x='epoch', y ='val_loss', data =train_history)\n",
        "#adding legends\n",
        "plt.legend(labels=['train_loss', 'val_loss'])\n",
        "#displaying line plot\n",
        "plt.show()"
      ],
      "metadata": {
        "colab": {
          "base_uri": "https://localhost:8080/",
          "height": 281
        },
        "id": "9XbkFOZuHxcb",
        "outputId": "e1ecde4d-7657-45df-edf4-31237204eaeb"
      },
      "execution_count": 19,
      "outputs": [
        {
          "output_type": "display_data",
          "data": {
            "text/plain": [
              "<Figure size 432x288 with 1 Axes>"
            ],
            "image/png": "[encoded data removed]"
          },
          "metadata": {
            "needs_background": "light"
          }
        }
      ]
    },
    {
      "cell_type": "code",
      "source": [
        "#plotting training accuracy\n",
        "sns.lineplot(x='epoch', y ='accuracy', data =train_history)\n",
        "#plotting validation accuracy\n",
        "sns.lineplot(x='epoch', y ='val_accuracy', data =train_history)\n",
        "#adding legends\n",
        "plt.legend(labels=['train_accuracy', 'val_accuracy'])\n",
        "#displaying line plot\n",
        "plt.show()"
      ],
      "metadata": {
        "colab": {
          "base_uri": "https://localhost:8080/",
          "height": 279
        },
        "id": "u95ptTJtH1yT",
        "outputId": "f8d90273-ccb5-4c43-cc5e-b551693000d1"
      },
      "execution_count": 20,
      "outputs": [
        {
          "output_type": "display_data",
          "data": {
            "text/plain": [
              "<Figure size 432x288 with 1 Axes>"
            ],
            "image/png": "[encoded data removed]"
          },
          "metadata": {
            "needs_background": "light"
          }
        }
      ]
    },
    {
      "cell_type": "markdown",
      "source": [
        "Looking at the loss and accuracy plots, we can see that the model is performing similarly to the previous model. Let's calculate the model's overall test error and accuracy."
      ],
      "metadata": {
        "id": "RUb-l8VkH9nZ"
      }
    },
    {
      "cell_type": "code",
      "source": [
        "#calculating test error and accuracy\n",
        "test_loss, test_acc = model.evaluate(x_test, y_test, verbose=0)\n",
        "print(f'''\n",
        "Test Loss: {round(test_loss, 4)}\n",
        "Test Accuracy: {round(test_acc, 4)}''')"
      ],
      "metadata": {
        "colab": {
          "base_uri": "https://localhost:8080/"
        },
        "id": "dd9-ii2IH_Wi",
        "outputId": "62723cc6-fb25-4f7f-8fff-7d3c9c77d02d"
      },
      "execution_count": 21,
      "outputs": [
        {
          "output_type": "stream",
          "name": "stdout",
          "text": [
            "\n",
            "Test Loss: 0.0736\n",
            "Test Accuracy: 0.9883\n"
          ]
        }
      ]
    },
    {
      "cell_type": "markdown",
      "source": [
        "As seen before, we have a really a low test loss and high test accuracy, which does raise suspicion since this model is nearly 99% accuracy (this rarely happens)."
      ],
      "metadata": {
        "id": "Z5FVuvKAITfV"
      }
    },
    {
      "cell_type": "markdown",
      "source": [
        "##Conclusion"
      ],
      "metadata": {
        "id": "46Xl6YCkFMEe"
      }
    },
    {
      "cell_type": "markdown",
      "source": [
        "**6. Please recommend the best model.**"
      ],
      "metadata": {
        "id": "ZoVgwoPbJaZ9"
      }
    },
    {
      "cell_type": "markdown",
      "source": [
        "Both models could be improved upon with parameter tuning, but of the two we created, we recommend the first model as the best model for MNIST digit classification because it had a slightly better test error and test accuracy. However, it is important to note that the model may be over-fitting the data as we can see with its high accuracy score (nearing 100%, which is rare for models to achieve). "
      ],
      "metadata": {
        "id": "HP36nrkjIcDx"
      }
    }
  ]
}